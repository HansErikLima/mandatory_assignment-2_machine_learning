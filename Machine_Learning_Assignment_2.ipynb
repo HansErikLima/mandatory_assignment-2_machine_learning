{
  "nbformat": 4,
  "nbformat_minor": 0,
  "metadata": {
    "colab": {
      "provenance": [],
      "authorship_tag": "ABX9TyPd9K76rmzD3theV5/UUEAe",
      "include_colab_link": true
    },
    "kernelspec": {
      "name": "python3",
      "display_name": "Python 3"
    },
    "language_info": {
      "name": "python"
    }
  },
  "cells": [
    {
      "cell_type": "markdown",
      "metadata": {
        "id": "view-in-github",
        "colab_type": "text"
      },
      "source": [
        "<a href=\"https://colab.research.google.com/github/HansErikLima/mandatory_assignment-2_machine_learning/blob/main/Machine_Learning_Assignment_2.ipynb\" target=\"_parent\"><img src=\"https://colab.research.google.com/assets/colab-badge.svg\" alt=\"Open In Colab\"/></a>"
      ]
    },
    {
      "cell_type": "markdown",
      "source": [
        "# IDATG2208 - Mandatory Assignment - 2\n"
      ],
      "metadata": {
        "id": "UEy0_eJVKJIP"
      }
    },
    {
      "cell_type": "code",
      "source": [
        "from sklearn.datasets import load_breast_cancer\n",
        "import numpy as np\n",
        "import pandas as pd\n",
        "import matplotlib.pyplot as plt"
      ],
      "metadata": {
        "id": "JDoBVVOkKV1z"
      },
      "execution_count": 6,
      "outputs": []
    },
    {
      "cell_type": "markdown",
      "source": [
        "## Exercise 1: Data Preparation"
      ],
      "metadata": {
        "id": "GMlYbNP_K9m-"
      }
    },
    {
      "cell_type": "markdown",
      "source": [
        "## Q1.1\n",
        "Load the dataset, inspect feature names and target distribution. Comment on\n",
        "dataset imbalance."
      ],
      "metadata": {
        "id": "RyQYu_OCLfZG"
      }
    },
    {
      "cell_type": "code",
      "source": [
        "# Q1.1 - Load dataset and inspect features and target\n",
        "\n",
        "# Load the Breast Cancer Wisconsin dataset\n",
        "bc = load_breast_cancer()\n",
        "\n",
        "# Convert to a DataFrame for easier inspection\n",
        "X = pd.DataFrame(bc.data, columns=bc.feature_names)\n",
        "y = pd.Series(bc.target, name=\"target\")\n",
        "\n",
        "# Show number of samples and features\n",
        "print(\"Shape of dataset:\", X.shape)\n",
        "\n",
        "# Show feature names\n",
        "print(\"\\nFeature names:\")\n",
        "print(bc.feature_names)\n",
        "\n",
        "# Show target values and class names\n",
        "print(\"\\nTarget class names:\", bc.target_names)\n",
        "print(\"Unique target values:\", np.unique(y))"
      ],
      "metadata": {
        "colab": {
          "base_uri": "https://localhost:8080/"
        },
        "id": "oVs9dMVFLa0x",
        "outputId": "5b9c1699-c507-4564-b58f-0dc383891e72"
      },
      "execution_count": 12,
      "outputs": [
        {
          "output_type": "stream",
          "name": "stdout",
          "text": [
            "Shape of dataset: (569, 30)\n",
            "\n",
            "Feature names:\n",
            "['mean radius' 'mean texture' 'mean perimeter' 'mean area'\n",
            " 'mean smoothness' 'mean compactness' 'mean concavity'\n",
            " 'mean concave points' 'mean symmetry' 'mean fractal dimension'\n",
            " 'radius error' 'texture error' 'perimeter error' 'area error'\n",
            " 'smoothness error' 'compactness error' 'concavity error'\n",
            " 'concave points error' 'symmetry error' 'fractal dimension error'\n",
            " 'worst radius' 'worst texture' 'worst perimeter' 'worst area'\n",
            " 'worst smoothness' 'worst compactness' 'worst concavity'\n",
            " 'worst concave points' 'worst symmetry' 'worst fractal dimension']\n",
            "\n",
            "Target class names: ['malignant' 'benign']\n",
            "Unique target values: [0 1]\n"
          ]
        }
      ]
    },
    {
      "cell_type": "code",
      "source": [
        "# Q1.1 - Target distribution\n",
        "\n",
        "class_counts = y.value_counts()\n",
        "print(\"\\nTarget distribution (counts):\")\n",
        "print(class_counts)\n",
        "\n",
        "class_proportion = class_counts / len(y)\n",
        "print(\"\\nTarget distribution (proportion):\")\n",
        "print(class_proportion.round(4))"
      ],
      "metadata": {
        "colab": {
          "base_uri": "https://localhost:8080/"
        },
        "id": "LkRqNtF3PEhb",
        "outputId": "b5e3b9c3-567c-4d90-fd71-d8a4b491699a"
      },
      "execution_count": 10,
      "outputs": [
        {
          "output_type": "stream",
          "name": "stdout",
          "text": [
            "\n",
            "Target distribution (counts):\n",
            "target\n",
            "1    357\n",
            "0    212\n",
            "Name: count, dtype: int64\n",
            "\n",
            "Target distribution (proportion):\n",
            "target\n",
            "1    0.6274\n",
            "0    0.3726\n",
            "Name: count, dtype: float64\n"
          ]
        }
      ]
    },
    {
      "cell_type": "markdown",
      "source": [
        "### Q1.1 – Dataset Inspection and Target Distribution\n",
        "\n",
        "The dataset contains 569 samples and 30 features.  \n",
        "The features represent various measurements computed from breast tissue images.\n",
        "\n",
        "By inspecting the target classes using `bc.target_names` and the unique values in `y`,  \n",
        "we observe that the dataset uses two classes:\n",
        "- 0 → malignant (cancerous)\n",
        "- 1 → benign (non-cancerous)\n",
        "\n",
        "The target distribution shows that benign cases are more frequent than malignant cases,  \n",
        "indicating a moderate class imbalance. This is important to consider in later model evaluation.\n"
      ],
      "metadata": {
        "id": "7aREaTV0POnx"
      }
    },
    {
      "cell_type": "code",
      "source": [],
      "metadata": {
        "id": "EhEZi9RdPcMO"
      },
      "execution_count": null,
      "outputs": []
    }
  ]
}